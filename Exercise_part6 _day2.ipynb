{
 "cells": [
  {
   "cell_type": "code",
   "execution_count": 19,
   "metadata": {
    "ExecuteTime": {
     "end_time": "2020-12-03T18:00:40.745744Z",
     "start_time": "2020-12-03T18:00:40.740834Z"
    }
   },
   "outputs": [
    {
     "name": "stdout",
     "output_type": "stream",
     "text": [
      "a\n",
      " string\n",
      " string\n",
      " string\n",
      " string\n",
      " string\n",
      " string\n",
      " string\n",
      " string\n",
      " string\n",
      " string\n",
      " string\n",
      " string\n",
      " string\n",
      " string\n",
      " string\n",
      " string\n",
      " string\n",
      " string\n",
      " string\n",
      " string\n"
     ]
    }
   ],
   "source": [
    "#Exercise 6.1\n",
    "text=\"[a]n example[ string]\"\n",
    "\n",
    "s=text\n",
    "for i in range(0,len(s)):\n",
    "    \n",
    "    print(s[s.find('[')+1:s.find(']')])\n",
    "    s=text[text.find(']')+1:]\n",
    "      "
   ]
  },
  {
   "cell_type": "code",
   "execution_count": 1,
   "metadata": {
    "ExecuteTime": {
     "end_time": "2020-12-03T15:28:24.212172Z",
     "start_time": "2020-12-03T15:28:24.205311Z"
    }
   },
   "outputs": [
    {
     "name": "stdout",
     "output_type": "stream",
     "text": [
      "ABCDEFGHIJKLMNOPQRSTUVWXYZ\n",
      "NOPQRSTUVWXYZABCDEFGHIJKLM\n"
     ]
    }
   ],
   "source": [
    "#Exercise 6.2\n",
    "# ROTR-13\n",
    "key=13\n",
    "s=\"ABCDEFGHIJKLMNOPQRSTUVWXYZ\"\n",
    "print(s)\n",
    "newpos=0\n",
    "lst=[]\n",
    "for ch in s:\n",
    "    new_pos=s.index(ch)+key\n",
    "    #print(new_pos)\n",
    "    if new_pos>25:\n",
    "        new_pos=(s.index(ch)+key)%26\n",
    "    lst.append(s[new_pos])\n",
    "    \n",
    "print(''.join(lst))"
   ]
  },
  {
   "cell_type": "code",
   "execution_count": 21,
   "metadata": {
    "ExecuteTime": {
     "end_time": "2020-12-03T18:05:02.572768Z",
     "start_time": "2020-12-03T18:05:02.568782Z"
    }
   },
   "outputs": [
    {
     "name": "stdout",
     "output_type": "stream",
     "text": [
      "3\n"
     ]
    }
   ],
   "source": [
    "#Exercise 6.3\n",
    "# Counting wood\n",
    "text = \"\"\"How much wood would a woodchuck chuck\n",
    "If a woodchuck could chuck wood?\n",
    "He would chuck, he would, as much as he could,\n",
    "And chuck as much as a woodchuck would\n",
    "If a woodchuck could chuck wood.\"\"\"\n",
    "\n",
    "for ch in '.,\\n?':\n",
    "    \n",
    "    text=text.replace(ch,\" \")\n",
    "    text=text.lower()\n",
    "lst=text.split()\n",
    "#print(lst)\n",
    "count=0\n",
    "for i in lst:\n",
    "    if i=='wood':\n",
    "        count+=1\n",
    "print(count)       \n"
   ]
  }
 ],
 "metadata": {
  "kernelspec": {
   "display_name": "Python 3",
   "language": "python",
   "name": "python3"
  },
  "language_info": {
   "codemirror_mode": {
    "name": "ipython",
    "version": 3
   },
   "file_extension": ".py",
   "mimetype": "text/x-python",
   "name": "python",
   "nbconvert_exporter": "python",
   "pygments_lexer": "ipython3",
   "version": "3.8.5"
  }
 },
 "nbformat": 4,
 "nbformat_minor": 4
}
