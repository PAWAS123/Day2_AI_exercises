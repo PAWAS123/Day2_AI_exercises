{
 "cells": [
  {
   "cell_type": "code",
   "execution_count": null,
   "metadata": {},
   "outputs": [],
   "source": [
    "#Exercise 11.1\n",
    "# Counting words in blakepoems.txt.\n",
    "fp = open( \"blakepoems.txt\",'r')\n",
    "d={}\n",
    "text=fp.read()\n",
    "content=text.lower()\n",
    "lst=content.split()\n",
    "for i in lst:\n",
    "    d[i]=lst.count(i)\n",
    "\n",
    "\n",
    "    \n",
    "print(d)"
   ]
  },
  {
   "cell_type": "code",
   "execution_count": null,
   "metadata": {},
   "outputs": [],
   "source": [
    "#Exercise 11.2\n",
    "# Counting words line by line.\n",
    "fp = open( \"blakepoems.txt\",'r')\n",
    "d={}\n",
    "text=fp.readline()\n",
    "#print(text)\n",
    "count=0\n",
    "while text:\n",
    "    #print(text)\n",
    "    content=text.lower()\n",
    "    lst=content.split()\n",
    "    for i in lst:\n",
    "        if i not in d:\n",
    "            d[i]=0\n",
    "        d[i]+=1\n",
    "\n",
    "    text=fp.readline()\n",
    "print(d)  "
   ]
  }
 ],
 "metadata": {
  "kernelspec": {
   "display_name": "Python 3",
   "language": "python",
   "name": "python3"
  },
  "language_info": {
   "codemirror_mode": {
    "name": "ipython",
    "version": 3
   },
   "file_extension": ".py",
   "mimetype": "text/x-python",
   "name": "python",
   "nbconvert_exporter": "python",
   "pygments_lexer": "ipython3",
   "version": "3.8.5"
  }
 },
 "nbformat": 4,
 "nbformat_minor": 4
}
